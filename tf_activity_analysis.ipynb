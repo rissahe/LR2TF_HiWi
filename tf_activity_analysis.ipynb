{
 "cells": [
  {
   "cell_type": "code",
   "execution_count": 1,
   "metadata": {},
   "outputs": [],
   "source": [
    "import anndata as ad\n",
    "import os"
   ]
  },
  {
   "cell_type": "code",
   "execution_count": null,
   "metadata": {},
   "outputs": [],
   "source": [
    "#ignore extra tfs from decoupler while writing script \n",
    "\n",
    "def tf_activity_analysis (anndataobject, tf_activities = None, arguments_list):\n",
    "    \n",
    "    if (isinstance(anndataobject, str)):\n",
    "        ad.read_h5ad(anndataobject)\n",
    "\n",
    "    arguments_list = validate_input_arguments(arguments_list)\n",
    "\n",
    "    #set celltype as metadata\n",
    "    os.mkdir(arguments_list[out_path])\n",
    "    tf_path = arguments_list[\"out_path\"] + \"TF_results/\"\n",
    "    os.mkdir(tf_path)\n",
    "\n",
    "    #skipped tf activities part\n",
    "\n",
    "    #add condition to metadata\n",
    "    \n"
   ]
  }
 ],
 "metadata": {
  "kernelspec": {
   "display_name": "testpy",
   "language": "python",
   "name": "python3"
  },
  "language_info": {
   "codemirror_mode": {
    "name": "ipython",
    "version": 3
   },
   "file_extension": ".py",
   "mimetype": "text/x-python",
   "name": "python",
   "nbconvert_exporter": "python",
   "pygments_lexer": "ipython3",
   "version": "3.12.3"
  }
 },
 "nbformat": 4,
 "nbformat_minor": 2
}

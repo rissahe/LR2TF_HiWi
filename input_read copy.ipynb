{
 "cells": [
  {
   "cell_type": "code",
   "execution_count": null,
   "metadata": {},
   "outputs": [],
   "source": [
    "import numpy as np\n",
    "import pandas as pd\n",
    "import decoupler as dc\n",
    "import omnipath "
   ]
  },
  {
   "cell_type": "code",
   "execution_count": null,
   "metadata": {},
   "outputs": [],
   "source": [
    "#look up how to include data in your own package and load it from there (later?)\n",
    "\n",
    "def load_dorothea_regulon (organism):\n",
    "    if (organism == \"human\"):\n",
    "        dorothea_regulon_human = pd.read_csv(\"/home/larissa/Documents/LR2TF_HiWi/human_dorothea_reg.csv\", index_col = 0)\n",
    "        regulon =  dorothea_regulon_human.loc[dorothea_regulon_human[\"confidence\"].isin([\"A\",\"B\", \"C\", \"D\"])]\n",
    "        regulon = pd.DataFrame.rename(regulon, columns={\"source\" : \"tf\", \"weight\" : \"mor\"})\n",
    "\n",
    "    elif (organism == \"mouse\"):\n",
    "        dorothea_regulon_mouse = pd.read_csv(\"/home/larissa/Documents/LR2TF_HiWi/mouse_dorothea_reg.csv\", index_col= 0)\n",
    "        regulon =  dorothea_regulon_mouse.loc[dorothea_regulon_mouse[\"confidence\"].isin([\"A\",\"B\", \"C\", \"D\"])]\n",
    "        regulon = pd.DataFrame.rename(regulon, columns={\"source\" : \"tf\", \"weight\" : \"mor\"})\n",
    "        \n",
    "    else:\n",
    "        print(\"Only human and mouse regulons can be loaded by default!\")\n",
    "    return regulon\n",
    "\n",
    "regulon = load_dorothea_regulon(organism= \"human\")\n",
    "regulon"
   ]
  },
  {
   "cell_type": "code",
   "execution_count": 9,
   "metadata": {},
   "outputs": [
    {
     "data": {
      "text/html": [
       "<div>\n",
       "<style scoped>\n",
       "    .dataframe tbody tr th:only-of-type {\n",
       "        vertical-align: middle;\n",
       "    }\n",
       "\n",
       "    .dataframe tbody tr th {\n",
       "        vertical-align: top;\n",
       "    }\n",
       "\n",
       "    .dataframe thead th {\n",
       "        text-align: right;\n",
       "    }\n",
       "</style>\n",
       "<table border=\"1\" class=\"dataframe\">\n",
       "  <thead>\n",
       "    <tr style=\"text-align: right;\">\n",
       "      <th></th>\n",
       "      <th>tf</th>\n",
       "      <th>confidence</th>\n",
       "      <th>target</th>\n",
       "      <th>mor</th>\n",
       "    </tr>\n",
       "  </thead>\n",
       "  <tbody>\n",
       "    <tr>\n",
       "      <th>0</th>\n",
       "      <td>MYC</td>\n",
       "      <td>A</td>\n",
       "      <td>TERT</td>\n",
       "      <td>1.000000</td>\n",
       "    </tr>\n",
       "    <tr>\n",
       "      <th>1</th>\n",
       "      <td>FOS</td>\n",
       "      <td>A</td>\n",
       "      <td>NTS</td>\n",
       "      <td>1.000000</td>\n",
       "    </tr>\n",
       "    <tr>\n",
       "      <th>2</th>\n",
       "      <td>FOS</td>\n",
       "      <td>A</td>\n",
       "      <td>NTF3</td>\n",
       "      <td>1.000000</td>\n",
       "    </tr>\n",
       "    <tr>\n",
       "      <th>3</th>\n",
       "      <td>FOS</td>\n",
       "      <td>A</td>\n",
       "      <td>NFKB1</td>\n",
       "      <td>-1.000000</td>\n",
       "    </tr>\n",
       "    <tr>\n",
       "      <th>4</th>\n",
       "      <td>FOS</td>\n",
       "      <td>A</td>\n",
       "      <td>NEFL</td>\n",
       "      <td>1.000000</td>\n",
       "    </tr>\n",
       "    <tr>\n",
       "      <th>...</th>\n",
       "      <td>...</td>\n",
       "      <td>...</td>\n",
       "      <td>...</td>\n",
       "      <td>...</td>\n",
       "    </tr>\n",
       "    <tr>\n",
       "      <th>32270</th>\n",
       "      <td>LEF1</td>\n",
       "      <td>C</td>\n",
       "      <td>NKD1</td>\n",
       "      <td>0.333333</td>\n",
       "    </tr>\n",
       "    <tr>\n",
       "      <th>32271</th>\n",
       "      <td>LEF1</td>\n",
       "      <td>C</td>\n",
       "      <td>NETO2</td>\n",
       "      <td>0.333333</td>\n",
       "    </tr>\n",
       "    <tr>\n",
       "      <th>32272</th>\n",
       "      <td>LEF1</td>\n",
       "      <td>C</td>\n",
       "      <td>MYO18B</td>\n",
       "      <td>0.333333</td>\n",
       "    </tr>\n",
       "    <tr>\n",
       "      <th>32273</th>\n",
       "      <td>LEF1</td>\n",
       "      <td>C</td>\n",
       "      <td>PHLDB2</td>\n",
       "      <td>0.333333</td>\n",
       "    </tr>\n",
       "    <tr>\n",
       "      <th>32274</th>\n",
       "      <td>ZNF83</td>\n",
       "      <td>C</td>\n",
       "      <td>ZNF331</td>\n",
       "      <td>0.333333</td>\n",
       "    </tr>\n",
       "  </tbody>\n",
       "</table>\n",
       "<p>32275 rows × 4 columns</p>\n",
       "</div>"
      ],
      "text/plain": [
       "          tf confidence  target       mor\n",
       "0        MYC          A    TERT  1.000000\n",
       "1        FOS          A     NTS  1.000000\n",
       "2        FOS          A    NTF3  1.000000\n",
       "3        FOS          A   NFKB1 -1.000000\n",
       "4        FOS          A    NEFL  1.000000\n",
       "...      ...        ...     ...       ...\n",
       "32270   LEF1          C    NKD1  0.333333\n",
       "32271   LEF1          C   NETO2  0.333333\n",
       "32272   LEF1          C  MYO18B  0.333333\n",
       "32273   LEF1          C  PHLDB2  0.333333\n",
       "32274  ZNF83          C  ZNF331  0.333333\n",
       "\n",
       "[32275 rows x 4 columns]"
      ]
     },
     "execution_count": 9,
     "metadata": {},
     "output_type": "execute_result"
    }
   ],
   "source": [
    "#look up how to include data in your own package and load it from there (later?)\n",
    "#works but is slower? or laptop is just slower\n",
    "\n",
    "def load_dorothea_regulon (organism):\n",
    "    if (organism == \"human\"):\n",
    "        dorothea_regulon_human = dc.get_dorothea(organism=\"human\")\n",
    "        regulon =  dorothea_regulon_human.loc[dorothea_regulon_human[\"confidence\"].isin([\"A\",\"B\", \"C\", \"D\"])]\n",
    "        regulon = pd.DataFrame.rename(regulon, columns={\"source\" : \"tf\", \"weight\" : \"mor\"})\n",
    "\n",
    "    elif (organism == \"mouse\"):\n",
    "        dorothea_regulon_mouse =  dc.get_dorothea(organism=\"mouse\")\n",
    "        regulon =  dorothea_regulon_mouse.loc[dorothea_regulon_mouse[\"confidence\"].isin([\"A\",\"B\", \"C\", \"D\"])]\n",
    "        regulon = pd.DataFrame.rename(regulon, columns={\"source\" : \"tf\", \"weight\" : \"mor\"})\n",
    "        \n",
    "    else:\n",
    "        print(\"Only human and mouse regulons can be loaded by default!\")\n",
    "    return regulon\n",
    "\n",
    "regulon = load_dorothea_regulon(organism= \"human\")\n",
    "regulon"
   ]
  },
  {
   "cell_type": "code",
   "execution_count": 10,
   "metadata": {},
   "outputs": [],
   "source": [
    "def validate_input_arguments (arguments_list):\n",
    "    if arguments_list[\"out_path\"] is None:\n",
    "        print(\"Please provide an output path\")\n",
    "    elif arguments_list[\"out_path\"][-1] != \"/\":\n",
    "        arguments_list[\"out_path\"] = arguments_list[\"out_path\"] + \"/\"\n",
    "\n",
    "    if arguments_list[\"celltype\"] is None:\n",
    "        print(\"Please provide the name of the metadata field containing cell type annotations\")\n",
    "\n",
    "    if arguments_list[\"condition\"] is None:\n",
    "        print(\"Please provide the name of the metadata field containing condition annotations\")\n",
    "\n",
    "    if arguments_list[\"organism\"] is None:\n",
    "        arguments_list[\"organism\"] = \"human\"\n",
    "\n",
    "    if arguments_list[\"comparison_list\"] is None:\n",
    "        arguments_list[\"comparison_list\"] = np.nan\n",
    "\n",
    "    if arguments_list[\"logfc\"] is None:\n",
    "        arguments_list[\"logfc\"] = 0.0\n",
    "\n",
    "    if arguments_list [\"pval\"] is None:\n",
    "        arguments_list[\"pval\"] = 0.05\n",
    "\n",
    "    if arguments_list[\"reg\"] is None:\n",
    "        arguments_list[\"reg\"] = load_dorothea_regulon(arguments_list[\"organism\"])\n",
    "    #python does not have character type, is it supposed to be string (eg input path?)\n",
    "    elif isinstance(arguments_list[\"reg\"], str):\n",
    "        arguments_list[\"reg\"] = pd.read_csv(arguments_list[\"reg\"], header = True)\n",
    "\n",
    "    #source and weight were renamed in load_dorothea_regulon; why does the code not give an error? is my code wrong or are the old names still in the data somewhere? \n",
    "    if not(all(np.array([\"source\", \"target\", \"weight\"]))):\n",
    "        raise Exception(\"Not all necessary columns found in regulon table! Please make sure that the regulon has the columns source, target and weight!\")\n",
    "    \n",
    "    return(arguments_list)\n",
    "\n",
    "        "
   ]
  },
  {
   "cell_type": "code",
   "execution_count": 11,
   "metadata": {},
   "outputs": [
    {
     "name": "stdout",
     "output_type": "stream",
     "text": [
      "Please provide the name of the metadata field containing cell type annotations\n",
      "Please provide the name of the metadata field containing condition annotations\n"
     ]
    }
   ],
   "source": [
    "arguments = {\"out_path\" : \"folder\", \"celltype\" : None, \"condition\" : None, \"organism\" : None, \"comparison_list\" : None, \"logfc\" : None, \"pval\" : None, \"reg\" : None}\n",
    "arguments_list = validate_input_arguments(arguments)"
   ]
  },
  {
   "cell_type": "code",
   "execution_count": 13,
   "metadata": {},
   "outputs": [
    {
     "data": {
      "text/plain": [
       "'folder/'"
      ]
     },
     "execution_count": 13,
     "metadata": {},
     "output_type": "execute_result"
    }
   ],
   "source": [
    "arguments_list[\"organism\"]\n",
    "arguments_list[\"out_path\"]"
   ]
  }
 ],
 "metadata": {
  "kernelspec": {
   "display_name": "testpy",
   "language": "python",
   "name": "python3"
  },
  "language_info": {
   "codemirror_mode": {
    "name": "ipython",
    "version": 3
   },
   "file_extension": ".py",
   "mimetype": "text/x-python",
   "name": "python",
   "nbconvert_exporter": "python",
   "pygments_lexer": "ipython3",
   "version": "3.12.3"
  }
 },
 "nbformat": 4,
 "nbformat_minor": 2
}

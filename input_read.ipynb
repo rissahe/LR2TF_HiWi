{
 "cells": [
  {
   "cell_type": "code",
   "execution_count": null,
   "metadata": {},
   "outputs": [],
   "source": [
    "import numpy as np\n",
    "import pandas as pd\n",
    "import decoupler as dc"
   ]
  },
  {
   "cell_type": "code",
   "execution_count": null,
   "metadata": {},
   "outputs": [],
   "source": [
    "from importlib.resources import files\n",
    "\n",
    "def load_dorothea_regulon (organism):\n",
    "    if (organism == \"human\"):\n",
    "        dorothea_regulon_human = files(\"LR2TF_py.data\").joinpath(\"human_dorothea_reg.csv\").pd.read_csv(index_col=0)\n",
    "        regulon =  dorothea_regulon_human.loc[dorothea_regulon_human[\"confidence\"].isin([\"A\",\"B\", \"C\", \"D\"])]\n",
    "        regulon = pd.DataFrame.rename(regulon, columns={\"source\" : \"tf\"})\n",
    "\n",
    "    elif (organism == \"mouse\"):\n",
    "        dorothea_regulon_mouse = files(\"LR2TF_py.data\").joinpath(\"mouse_dorothea_reg.csv\").pd.read_csv(index_col=0)\n",
    "        regulon =  dorothea_regulon_mouse.loc[dorothea_regulon_mouse[\"confidence\"].isin([\"A\",\"B\", \"C\", \"D\"])]\n",
    "        regulon = pd.DataFrame.rename(regulon, columns={\"source\" : \"tf\"})\n",
    "        \n",
    "    else:\n",
    "        print(\"Only human and mouse regulons can be loaded by default!\")\n",
    "    return regulon\n",
    "\n",
    "regulon = load_dorothea_regulon(organism= \"human\")\n",
    "regulon"
   ]
  },
  {
   "cell_type": "code",
   "execution_count": null,
   "metadata": {},
   "outputs": [],
   "source": [
    "#works but is slow (30s)\n",
    "\n",
    "def load_dorothea_regulon (organism):\n",
    "    if (organism == \"human\"):\n",
    "        dorothea_regulon_human = dc.get_dorothea(organism=\"human\")\n",
    "        regulon =  dorothea_regulon_human.loc[dorothea_regulon_human[\"confidence\"].isin([\"A\",\"B\", \"C\", \"D\"])]\n",
    "        regulon = pd.DataFrame.rename(regulon, columns={\"source\" : \"tf\"})\n",
    "\n",
    "    elif (organism == \"mouse\"):\n",
    "        dorothea_regulon_mouse =  dc.get_dorothea(organism=\"mouse\")\n",
    "        regulon =  dorothea_regulon_mouse.loc[dorothea_regulon_mouse[\"confidence\"].isin([\"A\",\"B\", \"C\", \"D\"])]\n",
    "        regulon = pd.DataFrame.rename(regulon, columns={\"source\" : \"tf\"})\n",
    "        \n",
    "    else:\n",
    "        print(\"Only human and mouse regulons can be loaded by default!\")\n",
    "    return regulon\n",
    "\n",
    "regulon = load_dorothea_regulon(organism= \"human\")\n",
    "regulon"
   ]
  },
  {
   "cell_type": "code",
   "execution_count": 43,
   "metadata": {},
   "outputs": [],
   "source": [
    "def validate_input_arguments (arguments_list):\n",
    "    if arguments_list[\"out_path\"] is None:\n",
    "        print(\"Please provide an output path\")\n",
    "    elif arguments_list[\"out_path\"][-1] != \"/\":\n",
    "        arguments_list[\"out_path\"] = arguments_list[\"out_path\"] + \"/\"\n",
    "\n",
    "    if arguments_list[\"celltype\"] is None:\n",
    "        print(\"Please provide the name of the metadata field containing cell type annotations\")\n",
    "\n",
    "    if arguments_list[\"condition\"] is None:\n",
    "        print(\"Please provide the name of the metadata field containing condition annotations\")\n",
    "\n",
    "    if arguments_list[\"organism\"] is None:\n",
    "        arguments_list[\"organism\"] = \"human\"\n",
    "\n",
    "    if arguments_list[\"comparison_list\"] is None:\n",
    "        arguments_list[\"comparison_list\"] = np.nan\n",
    "\n",
    "    if arguments_list[\"logfc\"] is None:\n",
    "        arguments_list[\"logfc\"] = 0.0\n",
    "\n",
    "    if arguments_list [\"pval\"] is None:\n",
    "        arguments_list[\"pval\"] = 0.05\n",
    "\n",
    "    if arguments_list[\"reg\"] is None:\n",
    "        arguments_list[\"reg\"] = load_dorothea_regulon(arguments_list[\"organism\"])\n",
    "\n",
    "    elif isinstance(arguments_list[\"reg\"], str):\n",
    "        arguments_list[\"reg\"] = pd.read_csv(arguments_list[\"reg\"], index_col=0)\n",
    "        arguments_list[\"reg\"] = pd.DataFrame.rename(arguments_list[\"reg\"], columns={\"source\" : \"tf\"})\n",
    "\n",
    "    if not \"tf\" in arguments_list[\"reg\"] and \"target\" in arguments_list[\"reg\"] and \"weight\"in arguments_list[\"reg\"]:\n",
    "        raise Exception(\"Not all necessary columns found in regulon table! Please make sure that the regulon has the columns source, target and weight!\")\n",
    "    \n",
    " \n",
    "   \n",
    "    return(arguments_list)\n",
    "\n"
   ]
  },
  {
   "cell_type": "code",
   "execution_count": 44,
   "metadata": {},
   "outputs": [
    {
     "name": "stdout",
     "output_type": "stream",
     "text": [
      "Please provide the name of the metadata field containing cell type annotations\n",
      "Please provide the name of the metadata field containing condition annotations\n"
     ]
    }
   ],
   "source": [
    "arguments = {\"out_path\" : \"folder\", \"celltype\" : None, \"condition\" : None, \"organism\" : None, \"comparison_list\" : None, \"logfc\" : None, \"pval\" : None, \"reg\" : \"/home/larissa/Documents/LR2TF_HiWi/human_dorothea_reg.csv\"}\n",
    "arguments_list = validate_input_arguments(arguments)"
   ]
  },
  {
   "cell_type": "code",
   "execution_count": 45,
   "metadata": {},
   "outputs": [
    {
     "data": {
      "text/plain": [
       "False"
      ]
     },
     "execution_count": 45,
     "metadata": {},
     "output_type": "execute_result"
    }
   ],
   "source": [
    "arguments_list[\"organism\"]\n",
    "arguments_list[\"out_path\"]\n",
    "\"fgdsdfha\" in arguments_list[\"reg\"] and \"target\" in arguments_list[\"reg\"] and \"weight\"in arguments_list[\"reg\"]"
   ]
  }
 ],
 "metadata": {
  "kernelspec": {
   "display_name": "testpy",
   "language": "python",
   "name": "python3"
  },
  "language_info": {
   "codemirror_mode": {
    "name": "ipython",
    "version": 3
   },
   "file_extension": ".py",
   "mimetype": "text/x-python",
   "name": "python",
   "nbconvert_exporter": "python",
   "pygments_lexer": "ipython3",
   "version": "3.12.3"
  }
 },
 "nbformat": 4,
 "nbformat_minor": 2
}

{
 "cells": [
  {
   "cell_type": "code",
   "execution_count": 2,
   "metadata": {},
   "outputs": [],
   "source": [
    "import anndata as ad\n",
    "import pandas as pd\n",
    "import numpy as np\n",
    "import scanpy as sc\n",
    "import decoupler as dc\n",
    "import os"
   ]
  },
  {
   "cell_type": "code",
   "execution_count": 7,
   "metadata": {},
   "outputs": [],
   "source": [
    "control_wilcoxon_python = pd.read_csv(\"/home/larissa/Documents/LR2TF_HiWi/script_test/TF_results/control/control_specific_markers_wilcoxon_test.csv\")\n",
    "control_t_test_python = pd.read_csv(\"/home/larissa/Documents/LR2TF_HiWi/script_test/TF_results/control/control_specific_markers_t_test_overestim_test.csv\")\n",
    "\n",
    "PMF_MF2_wilcoxon_python = pd.read_csv(\"/home/larissa/Documents/LR2TF_HiWi/script_test/TF_results/PMF,MF2/PMF,MF2_specific_markers_wilcoxon_test.csv\")\n",
    "PMF_MF2_t_test_python = pd.read_csv(\"/home/larissa/Documents/LR2TF_HiWi/script_test/TF_results/PMF,MF2/PMF,MF2_specific_markers_t_test_overestim_test.csv\")\n",
    "\n",
    "control_wilcoxon_R = pd.read_csv(\"/home/larissa/Documents/LR2TF_HiWi/LR2TF_test_run/results/TF_results/control/all_specificmarker__control.csv\")\n",
    "PMF_MF2_wilcoxon_R = pd.read_csv(\"/home/larissa/Documents/LR2TF_HiWi/LR2TF_test_run/results/TF_results/PMF_MF2/all_specificmarker__PMF_MF2.csv\")"
   ]
  },
  {
   "cell_type": "code",
   "execution_count": 19,
   "metadata": {},
   "outputs": [
    {
     "ename": "SyntaxError",
     "evalue": "invalid syntax (3918603405.py, line 1)",
     "output_type": "error",
     "traceback": [
      "\u001b[0;36m  Cell \u001b[0;32mIn[19], line 1\u001b[0;36m\u001b[0m\n\u001b[0;31m    control_wilcoxon_python_R = control_wilcoxon_python.merge(control_wilcoxon_R, left_index=True, right_on=[,1] )\u001b[0m\n\u001b[0m                                                                                                             ^\u001b[0m\n\u001b[0;31mSyntaxError\u001b[0m\u001b[0;31m:\u001b[0m invalid syntax\n"
     ]
    }
   ],
   "source": [
    "control_wilcoxon_python_R = control_wilcoxon_python.merge(control_wilcoxon_R, left_index=True, right_on=[,1] )\n",
    "control_wilcoxon_python_R.to_csv(\"control_wilcoxon_python_R.csv\")"
   ]
  },
  {
   "cell_type": "code",
   "execution_count": null,
   "metadata": {},
   "outputs": [],
   "source": []
  }
 ],
 "metadata": {
  "kernelspec": {
   "display_name": "testpy",
   "language": "python",
   "name": "python3"
  },
  "language_info": {
   "codemirror_mode": {
    "name": "ipython",
    "version": 3
   },
   "file_extension": ".py",
   "mimetype": "text/x-python",
   "name": "python",
   "nbconvert_exporter": "python",
   "pygments_lexer": "ipython3",
   "version": "3.12.3"
  }
 },
 "nbformat": 4,
 "nbformat_minor": 2
}
